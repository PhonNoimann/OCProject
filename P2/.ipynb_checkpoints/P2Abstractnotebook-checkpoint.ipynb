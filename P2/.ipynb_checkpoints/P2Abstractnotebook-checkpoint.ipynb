{
 "cells": [
  {
   "cell_type": "markdown",
   "metadata": {},
   "source": [
    "# **P2: Bi-Objective linear optimization problem using abstract pyomo model**"
   ]
  },
  {
   "cell_type": "markdown",
   "metadata": {},
   "source": [
    "Create the simple abstract model:\n",
    "$$min \\sum^{n}_{j=1} c_{j} x_{j}$$\n",
    "$$s.t. \\sum^{n}_{j=1}a_{ij}x_{j}\\leq b_{i} \\forall i=1...m$$\n",
    "$$x_{j}\\leq 0 \\forall j=1...n $$\n"
   ]
  },
  {
   "cell_type": "code",
   "execution_count": 1,
   "metadata": {},
   "outputs": [],
   "source": [
    "import csv\n",
    "import pandas\n",
    "import os\n",
    "import fnmatch\n",
    "import numpy as np\n",
    "import matplotlib.pyplot as plt\n",
    "from pyomo.environ import *"
   ]
  },
  {
   "cell_type": "code",
   "execution_count": 4,
   "metadata": {},
   "outputs": [],
   "source": [
    "model = AbstractModel()\n",
    "model.m = Param(within=NonNegativeIntegers)\n",
    "model.n = Param(within=NonNegativeIntegers)\n",
    "\n",
    "model.I = RangeSet(1, model.m)\n",
    "model.J = RangeSet(1, model.n)\n",
    "\n",
    "model.a = Param(model.I, model.J)\n",
    "model.b = Param(model.I)\n",
    "model.c = Param(model.J)\n",
    "\n",
    "# the next line declares a variable indexed by the set J\n",
    "model.x = Var(model.J, domain=NonNegativeReals)\n",
    "\n",
    "def obj_expression(model):\n",
    "    return summation(model.c, model.x)\n",
    "\n",
    "model.OBJ = Objective(rule=obj_expression)\n",
    "\n",
    "def ax_constraint_rule(model, i):\n",
    "    # return the expression for the constraint for i\n",
    "    return sum(model.a[i,j] * model.x[j] for j in model.J) <= model.b[i]\n",
    "\n",
    "# the next line creates one constraint for each member of the set model.I\n",
    "model.AxbConstraint = Constraint(model.I, rule=ax_constraint_rule)"
   ]
  },
  {
   "cell_type": "markdown",
   "metadata": {},
   "source": [
    "Use the csv data to initialize the instance"
   ]
  },
  {
   "cell_type": "code",
   "execution_count": 75,
   "metadata": {},
   "outputs": [
    {
     "name": "stdout",
     "output_type": "stream",
     "text": [
      "0.0\n"
     ]
    }
   ],
   "source": [
    "files = os.listdir()\n",
    "if ('constraints.csv' in files)==False or ('objectives.csv' in files)==False:\n",
    "    with open(\"dataCreator.py\", mode='r') as dataCreator:\n",
    "        exec(dataCreator.read())\n",
    "obj_file = pandas.read_csv('objectives.csv')\n",
    "c_file = pandas.read_csv('constraints.csv')\n",
    "A = obj_file.columns.tolist()\n",
    "A.append('UB')\n",
    "B = sum(1 for line in obj_file)\n",
    "model.n = sum(1 for column in obj_file) \n",
    "model.m = sum(1 for line in c_file)\n",
    "\n",
    "data = DataPortal()\n",
    "data.load(filename='constraints.csv', select=(A), param=(model.a,model.b))\n",
    "A.remove('UB')\n",
    "c=[]\n",
    "for z in np.linspace(0,1,10):\n",
    "    w=[z,1-z]\n",
    "    for i in A: \n",
    "        for j in range(B):\n",
    "            c = obj_file[i][j]*w[j] \n",
    "print(c)"
   ]
  },
  {
   "cell_type": "code",
   "execution_count": null,
   "metadata": {},
   "outputs": [],
   "source": []
  }
 ],
 "metadata": {
  "kernelspec": {
   "display_name": "Python 3",
   "language": "python",
   "name": "python3"
  },
  "language_info": {
   "codemirror_mode": {
    "name": "ipython",
    "version": 3
   },
   "file_extension": ".py",
   "mimetype": "text/x-python",
   "name": "python",
   "nbconvert_exporter": "python",
   "pygments_lexer": "ipython3",
   "version": "3.7.6"
  }
 },
 "nbformat": 4,
 "nbformat_minor": 4
}
