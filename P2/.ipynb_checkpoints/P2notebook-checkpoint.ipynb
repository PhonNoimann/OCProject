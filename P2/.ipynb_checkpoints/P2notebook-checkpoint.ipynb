{
 "cells": [
  {
   "cell_type": "markdown",
   "metadata": {},
   "source": [
    "P2: Bi-Objective linear optimization problem\n"
   ]
  },
  {
   "cell_type": "code",
   "execution_count": 1,
   "metadata": {},
   "outputs": [],
   "source": [
    "import csv\n",
    "import pandas\n",
    "import os\n",
    "import fnmatch\n",
    "import numpy as np\n",
    "import matplotlib.pyplot as plt\n",
    "from pyomo.environ import *"
   ]
  },
  {
   "cell_type": "markdown",
   "metadata": {},
   "source": [
    "Check if data for the objective functions and constraints exists, if not it creates them"
   ]
  },
  {
   "cell_type": "code",
   "execution_count": 2,
   "metadata": {},
   "outputs": [],
   "source": [
    "files = os.listdir()\n",
    "if ('constraints.csv' in files)==False or ('objectives.csv' in files)==False:\n",
    "    with open(\"dataCreator.py\", mode='r') as dataCreator:\n",
    "        exec(dataCreator.read())"
   ]
  },
  {
   "cell_type": "markdown",
   "metadata": {},
   "source": [
    "Read the values of the objective functions and constraints"
   ]
  },
  {
   "cell_type": "code",
   "execution_count": 3,
   "metadata": {},
   "outputs": [
    {
     "name": "stdout",
     "output_type": "stream",
     "text": [
      "   x1  x2\n",
      "0  -3  -8\n",
      "1   5   4\n",
      "   x1  x2    LB  UB\n",
      "0   2   6  None  27\n",
      "1   3   2  None  16\n",
      "2   4   1  None  18\n",
      "['x1', 'x2']\n",
      "2\n"
     ]
    }
   ],
   "source": [
    "obj_file = pandas.read_csv('objectives.csv')\n",
    "c_file = pandas.read_csv('constraints.csv')\n",
    "A = obj_file.columns.tolist()\n",
    "B = sum(1 for line in obj_file)\n",
    "print(obj_file)\n",
    "print(c_file)\n",
    "print(A)\n",
    "print(B)"
   ]
  },
  {
   "cell_type": "markdown",
   "metadata": {},
   "source": [
    "Create the model"
   ]
  },
  {
   "cell_type": "code",
   "execution_count": 4,
   "metadata": {},
   "outputs": [],
   "source": [
    "model = ConcreteModel()\n",
    "model.x = Var( A, within = NonNegativeReals)\n",
    "model.c = ConstraintList()\n",
    "for j in range(len(c_file)):\n",
    "    model.c.add(expr = (None, sum(model.x[i]*c_file[i][j] for i in A), c_file['UB'][j]))"
   ]
  },
  {
   "cell_type": "markdown",
   "metadata": {},
   "source": [
    "Define the objective function varing weights and solve each problem"
   ]
  },
  {
   "cell_type": "code",
   "execution_count": 22,
   "metadata": {},
   "outputs": [
    {
     "data": {
      "image/png": "[encoded data removed]",
      "text/plain": [
       "<Figure size 432x288 with 1 Axes>"
      ]
     },
     "metadata": {
      "needs_background": "light"
     },
     "output_type": "display_data"
    },
    {
     "data": {
      "image/png": "[encoded data removed]",
      "text/plain": [
       "<Figure size 432x288 with 1 Axes>"
      ]
     },
     "metadata": {
      "needs_background": "light"
     },
     "output_type": "display_data"
    }
   ],
   "source": [
    "#model.del_component(model.obj)\n",
    "x1 = []\n",
    "x2 = []\n",
    "z1 = []\n",
    "z2 = []\n",
    "for z in np.linspace(0,1,5):\n",
    "    w=[z,1-z]\n",
    "    model.obj = Objective(\n",
    "        expr = sum(model.x[i]*obj_file[i][j]*w[j] for i in A for j in range(B)), sense = minimize)\n",
    "    \n",
    "    opt = SolverFactory('glpk')\n",
    "    results = opt.solve(model)\n",
    "    x1.append(value(model.x['x1']))\n",
    "    x2.append(value(model.x['x2']))\n",
    "    z1.append(value(model.x['x1'])*value(obj_file['x1'][0])+value(model.x['x2'])*value(obj_file['x2'][0]))\n",
    "    z2.append(value(model.x['x1'])*value(obj_file['x1'][1])+value(model.x['x2'])*value(obj_file['x2'][1]))\n",
    "    model.del_component(model.obj)\n",
    "fig1, ax1 = plt.subplots()\n",
    "ax1.plot(x1,x2)\n",
    "ax1.set_title('Pareto frontier Weighting method x\\'s values')\n",
    "ax1.set_xlabel('x1')\n",
    "ax1.set_ylabel('x2')\n",
    "ax1.grid(True)\n",
    "\n",
    "fig2, ax2 = plt.subplots()\n",
    "ax2.plot(z1,z2)\n",
    "ax2.set_title('Pareto frontier Weighting method z\\'s values')\n",
    "ax2.set_xlabel('z1')\n",
    "ax2.set_ylabel('z2')\n",
    "ax2.grid(True)"
   ]
  },
  {
   "cell_type": "code",
   "execution_count": null,
   "metadata": {},
   "outputs": [],
   "source": []
  },
  {
   "cell_type": "code",
   "execution_count": null,
   "metadata": {},
   "outputs": [],
   "source": []
  }
 ],
 "metadata": {
  "kernelspec": {
   "display_name": "Python 3",
   "language": "python",
   "name": "python3"
  },
  "language_info": {
   "codemirror_mode": {
    "name": "ipython",
    "version": 3
   },
   "file_extension": ".py",
   "mimetype": "text/x-python",
   "name": "python",
   "nbconvert_exporter": "python",
   "pygments_lexer": "ipython3",
   "version": "3.7.6"
  }
 },
 "nbformat": 4,
 "nbformat_minor": 4
}
